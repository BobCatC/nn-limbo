{
  "nbformat": 4,
  "nbformat_minor": 0,
  "metadata": {
    "accelerator": "GPU",
    "colab": {
      "name": "PyTorch_CNN.ipynb",
      "provenance": [],
      "collapsed_sections": []
    },
    "kernelspec": {
      "display_name": "Python 3",
      "language": "python",
      "name": "python3"
    },
    "language_info": {
      "codemirror_mode": {
        "name": "ipython",
        "version": 3
      },
      "file_extension": ".py",
      "mimetype": "text/x-python",
      "name": "python",
      "nbconvert_exporter": "python",
      "pygments_lexer": "ipython3",
      "version": "3.7.0"
    }
  },
  "cells": [
    {
      "cell_type": "markdown",
      "metadata": {
        "id": "6i294kFK_I6j",
        "colab_type": "text"
      },
      "source": [
        "# Задание 3.2 - сверточные нейронные сети (CNNs) в PyTorch\n",
        "\n",
        "Это упражнение мы буде выполнять в Google Colab - https://colab.research.google.com/  \n",
        "Google Colab позволяет запускать код в notebook в облаке Google, где можно воспользоваться бесплатным GPU!  \n",
        "\n",
        "Авторы курса благодарят компанию Google и надеятся, что праздник не закончится.\n",
        "\n",
        "Туториал по настройке Google Colab:  \n",
        "https://medium.com/deep-learning-turkey/google-colab-free-gpu-tutorial-e113627b9f5d  \n",
        "(Keras инсталлировать не нужно, наш notebook сам установит PyTorch)\n"
      ]
    },
    {
      "cell_type": "code",
      "metadata": {
        "colab_type": "code",
        "id": "FcXBeP1O7cnY",
        "colab": {
          "base_uri": "https://localhost:8080/"
        },
        "outputId": "5bc70ad0-c7b2-497c-f5a5-73a68f947ff8"
      },
      "source": [
        "# Intstall PyTorch and download data\n",
        "!pip3 install torch torchvision\n",
        "\n",
        "!wget -c http://ufldl.stanford.edu/housenumbers/train_32x32.mat http://ufldl.stanford.edu/housenumbers/test_32x32.mat"
      ],
      "execution_count": 1,
      "outputs": [
        {
          "output_type": "stream",
          "text": [
            "Requirement already satisfied: torch in /usr/local/lib/python3.6/dist-packages (1.4.0)\n",
            "Requirement already satisfied: torchvision in /usr/local/lib/python3.6/dist-packages (0.5.0)\n",
            "Requirement already satisfied: numpy in /usr/local/lib/python3.6/dist-packages (from torchvision) (1.18.1)\n",
            "Requirement already satisfied: six in /usr/local/lib/python3.6/dist-packages (from torchvision) (1.12.0)\n",
            "Requirement already satisfied: pillow>=4.1.1 in /usr/local/lib/python3.6/dist-packages (from torchvision) (7.0.0)\n",
            "--2020-03-18 19:35:48--  http://ufldl.stanford.edu/housenumbers/train_32x32.mat\n",
            "Resolving ufldl.stanford.edu (ufldl.stanford.edu)... 171.64.68.10\n",
            "Connecting to ufldl.stanford.edu (ufldl.stanford.edu)|171.64.68.10|:80... connected.\n",
            "HTTP request sent, awaiting response... 416 Requested Range Not Satisfiable\n",
            "\n",
            "    The file is already fully retrieved; nothing to do.\n",
            "\n",
            "--2020-03-18 19:35:48--  http://ufldl.stanford.edu/housenumbers/test_32x32.mat\n",
            "Reusing existing connection to ufldl.stanford.edu:80.\n",
            "HTTP request sent, awaiting response... 416 Requested Range Not Satisfiable\n",
            "\n",
            "    The file is already fully retrieved; nothing to do.\n",
            "\n"
          ],
          "name": "stdout"
        }
      ]
    },
    {
      "cell_type": "code",
      "metadata": {
        "colab_type": "code",
        "id": "-afwWw-Q85vD",
        "colab": {}
      },
      "source": [
        "from collections import namedtuple\n",
        "\n",
        "import matplotlib.pyplot as plt\n",
        "import numpy as np\n",
        "import PIL\n",
        "import torch\n",
        "import torch.nn as nn\n",
        "import torch.optim as optim\n",
        "import torchvision.datasets as dset\n",
        "from torch.utils.data.sampler import SubsetRandomSampler\n",
        "\n",
        "from torchvision import transforms"
      ],
      "execution_count": 0,
      "outputs": []
    },
    {
      "cell_type": "code",
      "metadata": {
        "colab_type": "code",
        "id": "NNU-OD9O9ltP",
        "colab": {}
      },
      "source": [
        "device = torch.device(\"cuda:0\") # Let's make sure GPU is available!"
      ],
      "execution_count": 0,
      "outputs": []
    },
    {
      "cell_type": "markdown",
      "metadata": {
        "id": "tNILypG4_I7c",
        "colab_type": "text"
      },
      "source": [
        "# Загружаем данные"
      ]
    },
    {
      "cell_type": "code",
      "metadata": {
        "colab_type": "code",
        "id": "YAvkoRx-9FsP",
        "colab": {}
      },
      "source": [
        "# First, lets load the dataset\n",
        "data_train = dset.SVHN('./', \n",
        "                       transform=transforms.Compose([\n",
        "                           transforms.ToTensor(),\n",
        "                           transforms.Normalize(mean=[0.43,0.44,0.47],\n",
        "                                               std=[0.20,0.20,0.20])                           \n",
        "                       ])\n",
        "                      )\n",
        "data_test = dset.SVHN('./', split='test', transform=transforms.Compose([\n",
        "                           transforms.ToTensor(),\n",
        "                           transforms.Normalize(mean=[0.43,0.44,0.47],\n",
        "                                               std=[0.20,0.20,0.20])                           \n",
        "                       ]))"
      ],
      "execution_count": 0,
      "outputs": []
    },
    {
      "cell_type": "markdown",
      "metadata": {
        "id": "gs5m0gKe_I7x",
        "colab_type": "text"
      },
      "source": [
        "Разделяем данные на training и validation.\n",
        "\n",
        "На всякий случай для подробностей - https://pytorch.org/tutorials/beginner/data_loading_tutorial.html"
      ]
    },
    {
      "cell_type": "code",
      "metadata": {
        "colab_type": "code",
        "id": "YRnr8CPg7Hli",
        "colab": {}
      },
      "source": [
        "batch_size = 64\n",
        "\n",
        "data_size = data_train.data.shape[0]\n",
        "validation_split = .2\n",
        "split = int(np.floor(validation_split * data_size))\n",
        "indices = list(range(data_size))\n",
        "np.random.shuffle(indices)\n",
        "\n",
        "train_indices, val_indices = indices[split:], indices[:split]\n",
        "\n",
        "train_sampler = SubsetRandomSampler(train_indices)\n",
        "val_sampler = SubsetRandomSampler(val_indices)\n",
        "\n",
        "train_loader = torch.utils.data.DataLoader(data_train, batch_size=batch_size, \n",
        "                                           sampler=train_sampler)\n",
        "val_loader = torch.utils.data.DataLoader(data_train, batch_size=batch_size,\n",
        "                                         sampler=val_sampler)\n",
        "test_loader = torch.utils.data.DataLoader(data_test, batch_size=batch_size)"
      ],
      "execution_count": 0,
      "outputs": []
    },
    {
      "cell_type": "code",
      "metadata": {
        "colab_type": "code",
        "id": "LyYvt-T67PBG",
        "colab": {}
      },
      "source": [
        "# We'll use a special helper module to shape it into a flat tensor\n",
        "class Flattener(nn.Module):\n",
        "    def forward(self, x):\n",
        "        batch_size, *_ = x.shape\n",
        "        return x.view(batch_size, -1)"
      ],
      "execution_count": 0,
      "outputs": []
    },
    {
      "cell_type": "markdown",
      "metadata": {
        "id": "7NQfaeZp_I8D",
        "colab_type": "text"
      },
      "source": [
        "Создадим простейшую сеть с новыми слоями:  \n",
        "Convolutional - `nn.Conv2d`  \n",
        "MaxPool - `nn.MaxPool2d`"
      ]
    },
    {
      "cell_type": "code",
      "metadata": {
        "colab_type": "code",
        "id": "w9SFVGZP7SQd",
        "colab": {}
      },
      "source": [
        "nn_model = nn.Sequential(\n",
        "            nn.Conv2d(3, 64, 3, padding=1),\n",
        "            nn.ReLU(inplace=True),\n",
        "            nn.MaxPool2d(4),\n",
        "            nn.Conv2d(64, 64, 3, padding=1),\n",
        "            nn.ReLU(inplace=True),\n",
        "            nn.MaxPool2d(4),    \n",
        "            Flattener(),\n",
        "            nn.Linear(64*2*2, 10),\n",
        "          )\n",
        "\n",
        "nn_model.type(torch.cuda.FloatTensor)\n",
        "nn_model.to(device)\n",
        "\n",
        "loss = nn.CrossEntropyLoss().type(torch.cuda.FloatTensor)\n",
        "optimizer = optim.SGD(nn_model.parameters(), lr=1e-1, weight_decay=1e-4)"
      ],
      "execution_count": 0,
      "outputs": []
    },
    {
      "cell_type": "markdown",
      "metadata": {
        "id": "_zRxtgog_I8K",
        "colab_type": "text"
      },
      "source": [
        "Восстановите функцию `compute_accuracy` из прошлого задания.  \n",
        "Единственное отличие в новом - она должна передать данные на GPU прежде чем прогонять через модель. Сделайте это так же, как это делает функция `train_model`"
      ]
    },
    {
      "cell_type": "code",
      "metadata": {
        "colab_type": "code",
        "id": "2ek3KVQK7hJ6",
        "colab": {
          "base_uri": "https://localhost:8080/"
        },
        "outputId": "bc147a65-6c99-42a2-9768-41ceef6099a0"
      },
      "source": [
        "def train_model(model, train_loader, val_loader, loss, optimizer, num_epochs, scheduler=None):    \n",
        "    loss_history = []\n",
        "    train_history = []\n",
        "    val_history = []\n",
        "    for epoch in range(num_epochs):\n",
        "        model.train() # Enter train mode\n",
        "        \n",
        "        loss_accum = 0\n",
        "        correct_samples = 0\n",
        "        total_samples = 0\n",
        "        for i_step, (x, y) in enumerate(train_loader):\n",
        "          \n",
        "            x_gpu = x.to(device)\n",
        "            y_gpu = y.to(device)\n",
        "            prediction = model(x_gpu)    \n",
        "            loss_value = loss(prediction, y_gpu)\n",
        "            optimizer.zero_grad()\n",
        "            loss_value.backward()\n",
        "            optimizer.step()\n",
        "            \n",
        "            _, indices = torch.max(prediction, 1)\n",
        "            correct_samples += torch.sum(indices == y_gpu)\n",
        "            total_samples += y.shape[0]\n",
        "            \n",
        "            loss_accum += loss_value\n",
        "\n",
        "        ave_loss = loss_accum / i_step\n",
        "        train_accuracy = float(correct_samples) / total_samples\n",
        "        val_accuracy = compute_accuracy(model, val_loader)\n",
        "        \n",
        "        loss_history.append(float(ave_loss))\n",
        "        train_history.append(train_accuracy)\n",
        "        val_history.append(val_accuracy)\n",
        "        \n",
        "        output = [\n",
        "            \"Average loss: %f\" % ave_loss,\n",
        "            \"Train accuracy: %f\" % train_accuracy,\n",
        "            \"Val accuracy: %f\" % val_accuracy\n",
        "        ]\n",
        "        \n",
        "        if scheduler:\n",
        "            output.append(\"Learning rate: {}\".format(scheduler.get_lr()))\n",
        "            \n",
        "        print(\", \".join(output))\n",
        "        \n",
        "        if scheduler:\n",
        "            scheduler.step()\n",
        "        \n",
        "    return loss_history, train_history, val_history\n",
        "        \n",
        "def compute_accuracy(model, loader):\n",
        "    \"\"\"\n",
        "    Computes accuracy on the dataset wrapped in a loader\n",
        "    \n",
        "    Returns: accuracy as a float value between 0 and 1\n",
        "    \"\"\"\n",
        "    model.eval() # Evaluation mode\n",
        "\n",
        "    total_hits_count = 0\n",
        "    total_inputs_count = 0\n",
        "    \n",
        "    for x, y in loader:\n",
        "      x_gpu = x.to(device)\n",
        "      y_gpu = y.to(device)\n",
        "\n",
        "      prediction = model(x_gpu)\n",
        "\n",
        "      prediction = model(x_gpu)\n",
        "      probs = torch.argmax(prediction.data, axis=1)\n",
        "      \n",
        "      total_hits_count += (probs == y_gpu).sum().item()\n",
        "      total_inputs_count += x_gpu.shape[0]\n",
        "    \n",
        "    return total_hits_count / total_inputs_count if total_inputs_count > 0 else 0.0\n",
        "\n",
        "loss_history, train_history, val_history = train_model(nn_model, train_loader, val_loader, loss, optimizer, 5)"
      ],
      "execution_count": 8,
      "outputs": [
        {
          "output_type": "stream",
          "text": [
            "Average loss: 1.419086, Train accuracy: 0.524759, Val accuracy: 0.732988\n",
            "Average loss: 0.702837, Train accuracy: 0.785807, Val accuracy: 0.802061\n",
            "Average loss: 0.596769, Train accuracy: 0.821093, Val accuracy: 0.808136\n",
            "Average loss: 0.549695, Train accuracy: 0.836058, Val accuracy: 0.841649\n",
            "Average loss: 0.516416, Train accuracy: 0.846756, Val accuracy: 0.827930\n"
          ],
          "name": "stdout"
        }
      ]
    },
    {
      "cell_type": "markdown",
      "metadata": {
        "colab_type": "text",
        "id": "6a-3a1ZFGEw_"
      },
      "source": [
        "# Аугментация данных (Data augmentation)\n",
        "\n",
        "В работе с изображениями одним из особенно важных методов является аугментация данных - то есть, генерация дополнительных данных для тренировки на основе изначальных.   \n",
        "Таким образом, мы получаем возможность \"увеличить\" набор данных для тренировки, что ведет к лучшей работе сети.\n",
        "Важно, чтобы аугментированные данные были похожи на те, которые могут встретиться в реальной жизни, иначе польза от аугментаций уменьшается и может ухудшить работу сети.\n",
        "\n",
        "С PyTorch идут несколько таких алгоритмов, называемых `transforms`. Более подробно про них можно прочитать тут -\n",
        "https://pytorch.org/tutorials/beginner/data_loading_tutorial.html#transforms\n",
        "\n",
        "Ниже мы используем следующие алгоритмы генерации:\n",
        "- ColorJitter - случайное изменение цвета\n",
        "- RandomHorizontalFlip - горизонтальное отражение с вероятностью 50%\n",
        "- RandomVerticalFlip - вертикальное отражение с вероятностью 50%\n",
        "- RandomRotation - случайный поворот"
      ]
    },
    {
      "cell_type": "code",
      "metadata": {
        "colab_type": "code",
        "id": "jCWMUWmr7t5g",
        "colab": {}
      },
      "source": [
        "tfs = transforms.Compose([\n",
        "    transforms.ColorJitter(hue=.50, saturation=.50),\n",
        "    transforms.RandomHorizontalFlip(),\n",
        "    transforms.RandomVerticalFlip(),\n",
        "    transforms.RandomRotation(50, resample=PIL.Image.BILINEAR),\n",
        "    transforms.ToTensor(),\n",
        "    transforms.Normalize(mean=[0.43,0.44,0.47],\n",
        "                       std=[0.20,0.20,0.20])                           \n",
        "])\n",
        "\n",
        "# Create augmented train dataset\n",
        "data_aug_train = dset.SVHN('./', \n",
        "                       transform=tfs\n",
        "                      )\n",
        "\n",
        "train_aug_loader = torch.utils.data.DataLoader(data_aug_train, batch_size=batch_size, \n",
        "                                           sampler=train_sampler)"
      ],
      "execution_count": 0,
      "outputs": []
    },
    {
      "cell_type": "markdown",
      "metadata": {
        "id": "I0vnxJsM_I8Y",
        "colab_type": "text"
      },
      "source": [
        "Визуализируем результаты агментации (вообще, смотреть на сгенерированные данные всегда очень полезно)."
      ]
    },
    {
      "cell_type": "code",
      "metadata": {
        "colab_type": "code",
        "id": "YlJJEro1KZ45",
        "colab": {
          "base_uri": "https://localhost:8080/",
          "height": 193
        },
        "outputId": "49d153e1-a2b8-4435-90ad-308b3ab9425a"
      },
      "source": [
        "# TODO: Visualize some augmented images!\n",
        "# hint: you can create new datasets and loaders to accomplish this\n",
        "\n",
        "# Based on the visualizations, should we keep all the augmentations?\n",
        "\n",
        "tfs = transforms.Compose([\n",
        "    transforms.ColorJitter(hue=0.2, saturation=.2),\n",
        "    transforms.RandomHorizontalFlip(),\n",
        "    transforms.RandomVerticalFlip(),\n",
        "    transforms.RandomRotation(10, resample=PIL.Image.BILINEAR),\n",
        "])\n",
        "\n",
        "data_aug_vis = dset.SVHN('./', \n",
        "                       transform=tfs\n",
        "                      )\n",
        "\n",
        "plt.figure(figsize=(30, 3))\n",
        "\n",
        "for i, (x, y) in enumerate(data_aug_vis):\n",
        "    if i == 10:\n",
        "        break\n",
        "    plt.subplot(1, 10, i+1)\n",
        "    plt.grid(False)\n",
        "    plt.imshow(x)\n",
        "    plt.axis('off')"
      ],
      "execution_count": 10,
      "outputs": [
        {
          "output_type": "display_data",
          "data": {
            "image/png": "[encoded data removed]",
            "text/plain": [
              "<Figure size 2160x216 with 10 Axes>"
            ]
          },
          "metadata": {
            "tags": []
          }
        }
      ]
    },
    {
      "cell_type": "markdown",
      "metadata": {
        "colab_type": "text",
        "id": "o2LrmsYHoguB"
      },
      "source": [
        "Все ли агментации одинаково полезны на этом наборе данных? Могут ли быть среди них те, которые собьют модель с толку?\n",
        "\n",
        "Выберите из них только корректные"
      ]
    },
    {
      "cell_type": "code",
      "metadata": {
        "colab_type": "code",
        "id": "evro9ksXGs9u",
        "colab": {}
      },
      "source": [
        "tfs = transforms.Compose([\n",
        "    transforms.ColorJitter(hue=0.2, saturation=.2),\n",
        "    # transforms.RandomHorizontalFlip(),\n",
        "    # transforms.RandomVerticalFlip(),\n",
        "    transforms.RandomRotation(10, resample=PIL.Image.BILINEAR),\n",
        "    transforms.ToTensor(),\n",
        "    transforms.Normalize(mean=[0.43,0.44,0.47],\n",
        "                       std=[0.20,0.20,0.20])                           \n",
        "])\n",
        "\n",
        "data_aug_train = dset.SVHN('./', transform=tfs)\n",
        "\n",
        "train_aug_loader = torch.utils.data.DataLoader(data_aug_train, batch_size=batch_size, sampler=train_sampler)"
      ],
      "execution_count": 0,
      "outputs": []
    },
    {
      "cell_type": "code",
      "metadata": {
        "colab_type": "code",
        "id": "PeO6Zw0DHqPR",
        "colab": {
          "base_uri": "https://localhost:8080/",
          "height": 102
        },
        "outputId": "08913036-0c03-4ea2-c73e-8444eb4cf969"
      },
      "source": [
        "# Finally, let's train with augmentations!\n",
        "\n",
        "# Note we shouldn't use augmentations on validation\n",
        "\n",
        "loss_history, train_history, val_history = train_model(nn_model, train_aug_loader, val_loader, loss, optimizer, 5)"
      ],
      "execution_count": 12,
      "outputs": [
        {
          "output_type": "stream",
          "text": [
            "Average loss: 0.590785, Train accuracy: 0.818227, Val accuracy: 0.831752\n",
            "Average loss: 0.555333, Train accuracy: 0.831673, Val accuracy: 0.849567\n",
            "Average loss: 0.531672, Train accuracy: 0.839163, Val accuracy: 0.830182\n",
            "Average loss: 0.518761, Train accuracy: 0.842030, Val accuracy: 0.839533\n",
            "Average loss: 0.505930, Train accuracy: 0.847217, Val accuracy: 0.850590\n"
          ],
          "name": "stdout"
        }
      ]
    },
    {
      "cell_type": "markdown",
      "metadata": {
        "colab_type": "text",
        "id": "r0bcioK6JBDK"
      },
      "source": [
        "# LeNet\n",
        "Попробуем имплементировать классическую архитектуру сверточной нейронной сети, предложенную Яном ЛеКуном в 1998 году. В свое время она достигла впечатляющих результатов на MNIST, посмотрим как она справится с SVHN?\n",
        "Она описана в статье [\"Gradient Based Learning Applied to Document Recognition\"](http://yann.lecun.com/exdb/publis/pdf/lecun-01a.pdf), попробуйте прочитать ключевые части и имплементировать предложенную архитетуру на PyTorch.\n",
        "\n",
        "Реализовывать слои и функцию ошибки LeNet, которых нет в PyTorch, **не нужно** - просто возьмите их размеры и переведите в уже известные нам Convolutional, Pooling и Fully Connected layers.\n",
        "\n",
        "Если в статье не очень понятно, можно просто погуглить LeNet и разобраться в деталях :)"
      ]
    },
    {
      "cell_type": "code",
      "metadata": {
        "colab_type": "code",
        "id": "ieEzZUglJAUB",
        "colab": {}
      },
      "source": [
        "# TODO: Implement LeNet-like architecture for SVHN task\n",
        "lenet_model = nn.Sequential(\n",
        "            nn.Conv2d(in_channels=3, out_channels=6, kernel_size=5, stride=1, padding=2),\n",
        "            nn.Tanh(),\n",
        "            nn.MaxPool2d(kernel_size=2, stride=2, padding=0),\n",
        "            nn.Conv2d(in_channels=6, out_channels=16, kernel_size=5, stride=1, padding=0),\n",
        "            nn.Tanh(),\n",
        "            nn.MaxPool2d(kernel_size=2, stride=2, padding=0),\n",
        "            Flattener(),\n",
        "            nn.Linear(16 * 6 * 6, 10),\n",
        "          )\n",
        "\n",
        "lenet_model.type(torch.cuda.FloatTensor)\n",
        "lenet_model.to(device)\n",
        "\n",
        "loss = nn.CrossEntropyLoss().type(torch.cuda.FloatTensor)\n",
        "optimizer = optim.SGD(lenet_model.parameters(), lr=1e-1, weight_decay=1e-4)"
      ],
      "execution_count": 0,
      "outputs": []
    },
    {
      "cell_type": "code",
      "metadata": {
        "colab_type": "code",
        "id": "WMmaPfdeKk9H",
        "colab": {
          "base_uri": "https://localhost:8080/",
          "height": 187
        },
        "outputId": "139ad8cf-c58b-40f3-dea4-8a3a34b296bf"
      },
      "source": [
        "# Let's train it!\n",
        "loss_history, train_history, val_history = train_model(lenet_model, train_aug_loader, val_loader, loss, optimizer, 10)"
      ],
      "execution_count": 14,
      "outputs": [
        {
          "output_type": "stream",
          "text": [
            "Average loss: 0.957739, Train accuracy: 0.696465, Val accuracy: 0.840762\n",
            "Average loss: 0.551307, Train accuracy: 0.832338, Val accuracy: 0.849430\n",
            "Average loss: 0.508529, Train accuracy: 0.846040, Val accuracy: 0.845881\n",
            "Average loss: 0.488551, Train accuracy: 0.852899, Val accuracy: 0.858098\n",
            "Average loss: 0.474225, Train accuracy: 0.857660, Val accuracy: 0.855163\n",
            "Average loss: 0.465750, Train accuracy: 0.859246, Val accuracy: 0.861784\n",
            "Average loss: 0.458982, Train accuracy: 0.862164, Val accuracy: 0.868883\n",
            "Average loss: 0.457746, Train accuracy: 0.862113, Val accuracy: 0.867995\n",
            "Average loss: 0.451237, Train accuracy: 0.863615, Val accuracy: 0.873046\n",
            "Average loss: 0.451504, Train accuracy: 0.864775, Val accuracy: 0.872500\n"
          ],
          "name": "stdout"
        }
      ]
    },
    {
      "cell_type": "markdown",
      "metadata": {
        "colab_type": "text",
        "id": "u_O9qiYySvuj"
      },
      "source": [
        "# Подбор гиперпараметров"
      ]
    },
    {
      "cell_type": "code",
      "metadata": {
        "colab_type": "code",
        "id": "i6mhfdQ9K-N3",
        "colab": {}
      },
      "source": [
        "# The key hyperparameters we're going to tune are learning speed, annealing rate and regularization\n",
        "# We also encourage you to try different optimizers as well\n",
        "import itertools\n",
        "\n",
        "RunResult = namedtuple(\"RunResult\", ['model', 'train_history', 'val_history', 'final_val_accuracy'])\n",
        "\n",
        "\n",
        "class GridSearchIterator:\n",
        "  def __init__(self, hparams):\n",
        "    self.Hyperparams = namedtuple(\"Hyperparams\", list(hparams.keys()))\n",
        "    self.__combinations = list(itertools.product(*(hparams.values())))\n",
        "    self.__index = 0\n",
        "    self.__keys = list(hparams.keys())\n",
        "\n",
        "  def __next__(self):\n",
        "    if self.__index >= len(self.__combinations):\n",
        "      raise StopIteration\n",
        "    \n",
        "    hparams = self.__combinations[self.__index]\n",
        "    hparams = { key: value for (key, value) in zip(self.__keys, hparams) }\n",
        "    self.__index += 1\n",
        "    return self.Hyperparams(**hparams)\n",
        "\n",
        "\n",
        "class GridSearch:\n",
        "  def __init__(self, **kwargs):\n",
        "    self.parameters = kwargs\n",
        "  \n",
        "  def __iter__(self):\n",
        "    return GridSearchIterator(self.parameters)\n",
        "\n",
        "\n",
        "def grid_search_train(train_lambda, grid_search, metric):\n",
        "  results = []\n",
        "  for hparams in grid_search:\n",
        "    print(\"Executing with hparams: {}\".format(hparams))\n",
        "    run_result = train_lambda(hparams)\n",
        "    results.append((hparams, run_result))\n",
        "  \n",
        "  best_result = max(results, key=lambda x: getattr(x[1], metric))\n",
        "  print(\"Best hyper parameters: {}\".format(best_result[0]))\n",
        "  print(\"Best run result: {}\".format(best_result[1]))\n",
        "  return best_result[0], best_result[1]"
      ],
      "execution_count": 0,
      "outputs": []
    },
    {
      "cell_type": "code",
      "metadata": {
        "colab_type": "code",
        "id": "Y6xExdw8JB1l",
        "outputId": "3c7542dd-d518-479e-f121-2c34aa91e845",
        "colab": {
          "base_uri": "https://localhost:8080/",
          "height": 1000
        }
      },
      "source": [
        "def train_lenet(hparams):\n",
        "  global data_aug_train, train_sampler, val_loader\n",
        "\n",
        "  learning_rate = hparams.learning_rate\n",
        "  step_size = hparams.scheduler_step_size\n",
        "  gamma = hparams.scheduler_gamma\n",
        "  reg = hparams.reg\n",
        "  batch_size = hparams.batch_size\n",
        "  epoch_num = hparams.epoch_num\n",
        "\n",
        "  train_aug_loader = torch.utils.data.DataLoader(data_aug_train, batch_size=batch_size, sampler=train_sampler)\n",
        "\n",
        "  lenet_model = nn.Sequential(\n",
        "            nn.Conv2d(in_channels=3, out_channels=6, kernel_size=5, stride=1, padding=2),\n",
        "            nn.Tanh(),\n",
        "            nn.MaxPool2d(kernel_size=2, stride=2, padding=0),\n",
        "            nn.Conv2d(in_channels=6, out_channels=16, kernel_size=5, stride=1, padding=0),\n",
        "            nn.Tanh(),\n",
        "            nn.MaxPool2d(kernel_size=2, stride=2, padding=0),\n",
        "            Flattener(),\n",
        "            nn.Linear(16 * 6 * 6, 10),\n",
        "          )\n",
        "  \n",
        "  lenet_model.type(torch.cuda.FloatTensor)\n",
        "  lenet_model.to(device)\n",
        "\n",
        "  loss = nn.CrossEntropyLoss().type(torch.cuda.FloatTensor)\n",
        "  optimizer = optim.SGD(lenet_model.parameters(), lr=learning_rate, weight_decay=reg)\n",
        "  scheduler = optim.lr_scheduler.StepLR(optimizer, step_size=step_size, gamma=gamma)\n",
        "\n",
        "  loss_history, train_history, val_history = train_model(lenet_model, train_aug_loader, val_loader, loss, optimizer, epoch_num, scheduler)\n",
        "\n",
        "  return RunResult(model=lenet_model, train_history=train_history, val_history=val_history, final_val_accuracy=val_history[-1])\n",
        "  \n",
        "\n",
        "grid_search = GridSearch(\n",
        "    learning_rate=[1e-1, 75e-3, 5e-2],\n",
        "    scheduler_gamma=[0.5],\n",
        "    scheduler_step_size=[2, 4],\n",
        "    reg=[1e-4],\n",
        "    batch_size=[64],\n",
        "    epoch_num=[10]\n",
        ")\n",
        "\n",
        "best_hyperparams, best_run_result = grid_search_train(train_lenet, grid_search, 'final_val_accuracy')\n",
        "\n",
        "best_val_accuracy = best_run_result.final_val_accuracy\n",
        "best_run = best_run_result\n",
        "\n",
        "print(\"Best validation accuracy: %4.2f, best hyperparams: %s\" % (best_val_accuracy, best_hyperparams))"
      ],
      "execution_count": 21,
      "outputs": [
        {
          "output_type": "stream",
          "text": [
            "Executing with hparams: Hyperparams(learning_rate=0.1, scheduler_gamma=0.5, scheduler_step_size=2, reg=0.0001, batch_size=64, epoch_num=10)\n",
            "Average loss: 0.966191, Train accuracy: 0.692796, Val accuracy: 0.840079, Learning rate: [0.1]\n",
            "Average loss: 0.546137, Train accuracy: 0.834642, Val accuracy: 0.854890, Learning rate: [0.1]\n",
            "Average loss: 0.482264, Train accuracy: 0.856312, Val accuracy: 0.865265, Learning rate: [0.025]\n",
            "Average loss: 0.465357, Train accuracy: 0.862608, Val accuracy: 0.871340, Learning rate: [0.05]\n",
            "Average loss: 0.443756, Train accuracy: 0.868938, Val accuracy: 0.880691, Learning rate: [0.0125]\n",
            "Average loss: 0.437061, Train accuracy: 0.870201, Val accuracy: 0.878711, Learning rate: [0.025]\n",
            "Average loss: 0.428151, Train accuracy: 0.872129, Val accuracy: 0.881237, Learning rate: [0.00625]\n",
            "Average loss: 0.424372, Train accuracy: 0.874040, Val accuracy: 0.881237, Learning rate: [0.0125]\n",
            "Average loss: 0.421856, Train accuracy: 0.876020, Val accuracy: 0.884240, Learning rate: [0.003125]\n",
            "Average loss: 0.418528, Train accuracy: 0.876531, Val accuracy: 0.883762, Learning rate: [0.00625]\n",
            "Executing with hparams: Hyperparams(learning_rate=0.1, scheduler_gamma=0.5, scheduler_step_size=4, reg=0.0001, batch_size=64, epoch_num=10)\n",
            "Average loss: 1.029529, Train accuracy: 0.670051, Val accuracy: 0.837144, Learning rate: [0.1]\n",
            "Average loss: 0.551171, Train accuracy: 0.831604, Val accuracy: 0.859259, Learning rate: [0.1]\n",
            "Average loss: 0.514200, Train accuracy: 0.844436, Val accuracy: 0.866425, Learning rate: [0.1]\n",
            "Average loss: 0.497497, Train accuracy: 0.848906, Val accuracy: 0.864583, Learning rate: [0.1]\n",
            "Average loss: 0.453537, Train accuracy: 0.864092, Val accuracy: 0.875162, Learning rate: [0.025]\n",
            "Average loss: 0.446642, Train accuracy: 0.865372, Val accuracy: 0.878029, Learning rate: [0.05]\n",
            "Average loss: 0.439259, Train accuracy: 0.868734, Val accuracy: 0.873934, Learning rate: [0.05]\n",
            "Average loss: 0.438108, Train accuracy: 0.868034, Val accuracy: 0.876391, Learning rate: [0.05]\n",
            "Average loss: 0.416337, Train accuracy: 0.876463, Val accuracy: 0.882943, Learning rate: [0.0125]\n",
            "Average loss: 0.414514, Train accuracy: 0.876327, Val accuracy: 0.884786, Learning rate: [0.025]\n",
            "Executing with hparams: Hyperparams(learning_rate=0.075, scheduler_gamma=0.5, scheduler_step_size=2, reg=0.0001, batch_size=64, epoch_num=10)\n",
            "Average loss: 1.092477, Train accuracy: 0.646947, Val accuracy: 0.824108, Learning rate: [0.075]\n",
            "Average loss: 0.580602, Train accuracy: 0.824677, Val accuracy: 0.849021, Learning rate: [0.075]\n",
            "Average loss: 0.504629, Train accuracy: 0.849742, Val accuracy: 0.863081, Learning rate: [0.01875]\n",
            "Average loss: 0.487075, Train accuracy: 0.854520, Val accuracy: 0.870248, Learning rate: [0.0375]\n",
            "Average loss: 0.466980, Train accuracy: 0.861516, Val accuracy: 0.870794, Learning rate: [0.009375]\n",
            "Average loss: 0.459068, Train accuracy: 0.863461, Val accuracy: 0.873114, Learning rate: [0.01875]\n",
            "Average loss: 0.450128, Train accuracy: 0.866857, Val accuracy: 0.875299, Learning rate: [0.0046875]\n",
            "Average loss: 0.447108, Train accuracy: 0.867403, Val accuracy: 0.873865, Learning rate: [0.009375]\n",
            "Average loss: 0.440582, Train accuracy: 0.869996, Val accuracy: 0.876459, Learning rate: [0.00234375]\n",
            "Average loss: 0.441152, Train accuracy: 0.868597, Val accuracy: 0.875913, Learning rate: [0.0046875]\n",
            "Executing with hparams: Hyperparams(learning_rate=0.075, scheduler_gamma=0.5, scheduler_step_size=4, reg=0.0001, batch_size=64, epoch_num=10)\n",
            "Average loss: 1.077612, Train accuracy: 0.654643, Val accuracy: 0.823493, Learning rate: [0.075]\n",
            "Average loss: 0.588081, Train accuracy: 0.820923, Val accuracy: 0.834346, Learning rate: [0.075]\n",
            "Average loss: 0.533553, Train accuracy: 0.838549, Val accuracy: 0.855300, Learning rate: [0.075]\n",
            "Average loss: 0.504706, Train accuracy: 0.848872, Val accuracy: 0.862398, Learning rate: [0.075]\n",
            "Average loss: 0.463917, Train accuracy: 0.862198, Val accuracy: 0.873524, Learning rate: [0.01875]\n",
            "Average loss: 0.453410, Train accuracy: 0.864894, Val accuracy: 0.875708, Learning rate: [0.0375]\n",
            "Average loss: 0.447989, Train accuracy: 0.865765, Val accuracy: 0.874138, Learning rate: [0.0375]\n",
            "Average loss: 0.440608, Train accuracy: 0.868495, Val accuracy: 0.875776, Learning rate: [0.0375]\n",
            "Average loss: 0.425479, Train accuracy: 0.873648, Val accuracy: 0.878165, Learning rate: [0.009375]\n",
            "Average loss: 0.421105, Train accuracy: 0.874535, Val accuracy: 0.879394, Learning rate: [0.01875]\n",
            "Executing with hparams: Hyperparams(learning_rate=0.05, scheduler_gamma=0.5, scheduler_step_size=2, reg=0.0001, batch_size=64, epoch_num=10)\n",
            "Average loss: 1.248241, Train accuracy: 0.608521, Val accuracy: 0.822196, Learning rate: [0.05]\n",
            "Average loss: 0.592528, Train accuracy: 0.824301, Val accuracy: 0.845267, Learning rate: [0.05]\n",
            "Average loss: 0.519143, Train accuracy: 0.845801, Val accuracy: 0.861784, Learning rate: [0.0125]\n",
            "Average loss: 0.498015, Train accuracy: 0.851466, Val accuracy: 0.863081, Learning rate: [0.025]\n",
            "Average loss: 0.479609, Train accuracy: 0.858206, Val accuracy: 0.870657, Learning rate: [0.00625]\n",
            "Average loss: 0.474285, Train accuracy: 0.859946, Val accuracy: 0.871886, Learning rate: [0.0125]\n",
            "Average loss: 0.464035, Train accuracy: 0.862028, Val accuracy: 0.873456, Learning rate: [0.003125]\n",
            "Average loss: 0.462356, Train accuracy: 0.864434, Val accuracy: 0.874070, Learning rate: [0.00625]\n",
            "Average loss: 0.458269, Train accuracy: 0.865150, Val accuracy: 0.875299, Learning rate: [0.0015625]\n",
            "Average loss: 0.454297, Train accuracy: 0.866447, Val accuracy: 0.874616, Learning rate: [0.003125]\n",
            "Executing with hparams: Hyperparams(learning_rate=0.05, scheduler_gamma=0.5, scheduler_step_size=4, reg=0.0001, batch_size=64, epoch_num=10)\n",
            "Average loss: 1.250406, Train accuracy: 0.600450, Val accuracy: 0.824176, Learning rate: [0.05]\n",
            "Average loss: 0.585939, Train accuracy: 0.824967, Val accuracy: 0.848475, Learning rate: [0.05]\n",
            "Average loss: 0.523200, Train accuracy: 0.843497, Val accuracy: 0.860146, Learning rate: [0.05]\n",
            "Average loss: 0.494973, Train accuracy: 0.852916, Val accuracy: 0.867040, Learning rate: [0.05]\n",
            "Average loss: 0.465021, Train accuracy: 0.861431, Val accuracy: 0.871340, Learning rate: [0.0125]\n",
            "Average loss: 0.458968, Train accuracy: 0.863393, Val accuracy: 0.874343, Learning rate: [0.025]\n",
            "Average loss: 0.450964, Train accuracy: 0.865492, Val accuracy: 0.873114, Learning rate: [0.025]\n",
            "Average loss: 0.444787, Train accuracy: 0.867061, Val accuracy: 0.875708, Learning rate: [0.025]\n",
            "Average loss: 0.433081, Train accuracy: 0.872010, Val accuracy: 0.877824, Learning rate: [0.00625]\n",
            "Average loss: 0.430949, Train accuracy: 0.872812, Val accuracy: 0.879189, Learning rate: [0.0125]\n",
            "Best hyper parameters: Hyperparams(learning_rate=0.1, scheduler_gamma=0.5, scheduler_step_size=4, reg=0.0001, batch_size=64, epoch_num=10)\n",
            "Best run result: RunResult(model=Sequential(\n",
            "  (0): Conv2d(3, 6, kernel_size=(5, 5), stride=(1, 1), padding=(2, 2))\n",
            "  (1): Tanh()\n",
            "  (2): MaxPool2d(kernel_size=2, stride=2, padding=0, dilation=1, ceil_mode=False)\n",
            "  (3): Conv2d(6, 16, kernel_size=(5, 5), stride=(1, 1))\n",
            "  (4): Tanh()\n",
            "  (5): MaxPool2d(kernel_size=2, stride=2, padding=0, dilation=1, ceil_mode=False)\n",
            "  (6): Flattener()\n",
            "  (7): Linear(in_features=576, out_features=10, bias=True)\n",
            "), train_history=[0.6700508480360373, 0.8316042726000751, 0.8444357233047811, 0.8489062553322185, 0.8640924137460329, 0.8653721461966352, 0.8687335767668839, 0.868033989693888, 0.876463160768522, 0.8763266559737911], val_history=[0.8371442222373899, 0.8592587536686915, 0.8664254999658726, 0.8645826223465976, 0.8751621049757695, 0.878028803494642, 0.8739335198962528, 0.8763906900552864, 0.882943143812709, 0.8847860214319841], final_val_accuracy=0.8847860214319841)\n",
            "Best validation accuracy: 0.88, best hyperparams: Hyperparams(learning_rate=0.1, scheduler_gamma=0.5, scheduler_step_size=4, reg=0.0001, batch_size=64, epoch_num=10)\n"
          ],
          "name": "stdout"
        }
      ]
    },
    {
      "cell_type": "markdown",
      "metadata": {
        "colab_type": "text",
        "id": "LOmsR0uVgtgf"
      },
      "source": [
        "# Свободное упражнение - догоним и перегоним LeNet!\n",
        "\n",
        "Попробуйте найти архитектуру и настройки тренировки, чтобы выступить лучше наших бейзлайнов.\n",
        "\n",
        "Что можно и нужно попробовать:\n",
        "- BatchNormalization (для convolution layers он в PyTorch называется [batchnorm2d](https://pytorch.org/docs/stable/nn.html#batchnorm2d))\n",
        "- Изменить количество слоев и их толщину\n",
        "- Изменять количество эпох тренировки\n",
        "- Попробовать и другие агментации"
      ]
    },
    {
      "cell_type": "code",
      "metadata": {
        "id": "_TDCFdIsQkmn",
        "colab_type": "code",
        "colab": {
          "base_uri": "https://localhost:8080/",
          "height": 649
        },
        "outputId": "a0225782-0914-4a63-e389-f231b38128fa"
      },
      "source": [
        "def train_best_model(hparams):\n",
        "  global data_aug_train, train_sampler, val_loader\n",
        "\n",
        "  learning_rate = hparams.learning_rate\n",
        "  step_size = hparams.scheduler_step_size\n",
        "  gamma = hparams.scheduler_gamma\n",
        "  reg = hparams.reg\n",
        "  batch_size = hparams.batch_size\n",
        "  epoch_num = hparams.epoch_num\n",
        "\n",
        "  train_aug_loader = torch.utils.data.DataLoader(data_aug_train, batch_size=batch_size, sampler=train_sampler)\n",
        "\n",
        "  lenet_model = nn.Sequential(\n",
        "            nn.Conv2d(in_channels=3, out_channels=16, kernel_size=5, padding=2),\n",
        "            nn.BatchNorm2d(num_features=16, eps=1e-5, momentum=1e-1),\n",
        "            nn.ReLU(inplace=True),\n",
        "            nn.MaxPool2d(2, 2),\n",
        "\n",
        "            nn.Conv2d(in_channels=16, out_channels=32, kernel_size=5, padding=0),\n",
        "            nn.BatchNorm2d(num_features=32),\n",
        "            nn.ReLU(inplace=True),\n",
        "            nn.MaxPool2d(2, 2),\n",
        "            \n",
        "            nn.Conv2d(in_channels=32, out_channels=64, kernel_size=3, padding=0),\n",
        "            nn.BatchNorm2d(num_features=64),\n",
        "            nn.ReLU(inplace=True),\n",
        "\n",
        "            Flattener(),\n",
        "\n",
        "            nn.Linear(64 * 4 * 4, 128),\n",
        "            nn.BatchNorm1d(128),\n",
        "            nn.ReLU(inplace = True),\n",
        "\n",
        "            nn.Linear(128, 10)\n",
        "          )\n",
        "  \n",
        "  lenet_model.type(torch.cuda.FloatTensor)\n",
        "  lenet_model.to(device)\n",
        "\n",
        "  loss = nn.CrossEntropyLoss().type(torch.cuda.FloatTensor)\n",
        "  optimizer = optim.SGD(lenet_model.parameters(), lr=learning_rate, weight_decay=reg)\n",
        "  scheduler = optim.lr_scheduler.StepLR(optimizer, step_size=step_size, gamma=gamma)\n",
        "\n",
        "  loss_history, train_history, val_history = train_model(lenet_model, train_aug_loader, val_loader, loss, optimizer, epoch_num, scheduler)\n",
        "\n",
        "  return RunResult(model=lenet_model, train_history=train_history, val_history=val_history, final_val_accuracy=val_history[-1])\n",
        "  \n",
        "\n",
        "grid_search = GridSearch(\n",
        "    learning_rate=[2e-1, 1e-1, 5e-2],\n",
        "    scheduler_gamma=[0.5],\n",
        "    scheduler_step_size=[5, 10],\n",
        "    reg=[1e-4],\n",
        "    batch_size=[64],\n",
        "    epoch_num=[15]\n",
        ")\n",
        "\n",
        "best_hyperparams, best_run_result = grid_search_train(train_best_model, grid_search, 'final_val_accuracy')\n",
        "\n",
        "best_val_accuracy = best_run_result.final_val_accuracy\n",
        "best_run = best_run_result\n",
        "\n",
        "print(\"Best validation accuracy: %4.2f, best hyperparams: %s\" % (best_val_accuracy, best_hyperparams))"
      ],
      "execution_count": 24,
      "outputs": [
        {
          "output_type": "stream",
          "text": [
            "Executing with hparams: Hyperparams(learning_rate=0.1, scheduler_gamma=0.5, scheduler_step_size=10, reg=0.0001, batch_size=64, epoch_num=15)\n",
            "Average loss: 0.629271, Train accuracy: 0.803450, Val accuracy: 0.889223, Learning rate: [0.1]\n",
            "Average loss: 0.387454, Train accuracy: 0.881360, Val accuracy: 0.897618, Learning rate: [0.1]\n",
            "Average loss: 0.327814, Train accuracy: 0.900915, Val accuracy: 0.911474, Learning rate: [0.1]\n",
            "Average loss: 0.292108, Train accuracy: 0.911920, Val accuracy: 0.913385, Learning rate: [0.1]\n",
            "Average loss: 0.268787, Train accuracy: 0.917892, Val accuracy: 0.918777, Learning rate: [0.1]\n",
            "Average loss: 0.246840, Train accuracy: 0.926151, Val accuracy: 0.926558, Learning rate: [0.1]\n",
            "Average loss: 0.231343, Train accuracy: 0.929478, Val accuracy: 0.923486, Learning rate: [0.1]\n",
            "Average loss: 0.215221, Train accuracy: 0.934563, Val accuracy: 0.924920, Learning rate: [0.1]\n",
            "Average loss: 0.201692, Train accuracy: 0.939392, Val accuracy: 0.926490, Learning rate: [0.1]\n",
            "Average loss: 0.188073, Train accuracy: 0.941781, Val accuracy: 0.923282, Learning rate: [0.1]\n",
            "Average loss: 0.151777, Train accuracy: 0.955056, Val accuracy: 0.932155, Learning rate: [0.025]\n",
            "Average loss: 0.140857, Train accuracy: 0.958076, Val accuracy: 0.931882, Learning rate: [0.05]\n",
            "Average loss: 0.131747, Train accuracy: 0.961096, Val accuracy: 0.931677, Learning rate: [0.05]\n",
            "Average loss: 0.126705, Train accuracy: 0.962854, Val accuracy: 0.931063, Learning rate: [0.05]\n",
            "Average loss: 0.121183, Train accuracy: 0.963843, Val accuracy: 0.929288, Learning rate: [0.05]\n",
            "Best hyper parameters: Hyperparams(learning_rate=0.1, scheduler_gamma=0.5, scheduler_step_size=10, reg=0.0001, batch_size=64, epoch_num=15)\n",
            "Best run result: RunResult(model=Sequential(\n",
            "  (0): Conv2d(3, 16, kernel_size=(5, 5), stride=(1, 1), padding=(2, 2))\n",
            "  (1): BatchNorm2d(16, eps=1e-05, momentum=0.1, affine=True, track_running_stats=True)\n",
            "  (2): ReLU(inplace=True)\n",
            "  (3): MaxPool2d(kernel_size=2, stride=2, padding=0, dilation=1, ceil_mode=False)\n",
            "  (4): Conv2d(16, 32, kernel_size=(5, 5), stride=(1, 1))\n",
            "  (5): BatchNorm2d(32, eps=1e-05, momentum=0.1, affine=True, track_running_stats=True)\n",
            "  (6): ReLU(inplace=True)\n",
            "  (7): MaxPool2d(kernel_size=2, stride=2, padding=0, dilation=1, ceil_mode=False)\n",
            "  (8): Conv2d(32, 64, kernel_size=(3, 3), stride=(1, 1))\n",
            "  (9): BatchNorm2d(64, eps=1e-05, momentum=0.1, affine=True, track_running_stats=True)\n",
            "  (10): ReLU(inplace=True)\n",
            "  (11): Flattener()\n",
            "  (12): Linear(in_features=1024, out_features=128, bias=True)\n",
            "  (13): BatchNorm1d(128, eps=1e-05, momentum=0.1, affine=True, track_running_stats=True)\n",
            "  (14): ReLU(inplace=True)\n",
            "  (15): Linear(in_features=128, out_features=10, bias=True)\n",
            "), train_history=[0.8034501586868239, 0.8813602702794936, 0.9009145821246971, 0.9119202811998771, 0.9178923659693546, 0.926150906050575, 0.9294782104221411, 0.9345630140258676, 0.9393918711394738, 0.9417807050472647, 0.9550557963348463, 0.9580759649182677, 0.9610961335016892, 0.9628536327338498, 0.9638432924956489], val_history=[0.8892225786635725, 0.8976179100402703, 0.9114736195481538, 0.9133847518940686, 0.9187768752986144, 0.9265579141355539, 0.923486451436762, 0.9249198006961982, 0.926489659408914, 0.9232816872568426, 0.9321548017200191, 0.9318817828134598, 0.9316770186335404, 0.931062726093782, 0.9292881032011466], final_val_accuracy=0.9292881032011466)\n",
            "Best validation accuracy: 0.93, best hyperparams: Hyperparams(learning_rate=0.1, scheduler_gamma=0.5, scheduler_step_size=10, reg=0.0001, batch_size=64, epoch_num=15)\n"
          ],
          "name": "stdout"
        }
      ]
    },
    {
      "cell_type": "markdown",
      "metadata": {
        "colab_type": "text",
        "id": "ubeKgBcnhx7N"
      },
      "source": [
        "# Финальный аккорд - проверим лучшую модель на test set\n",
        "\n",
        "В качестве разнообразия - напишите код для прогона модели на test set вы.\n",
        "\n",
        "В результате вы должны натренировать модель, которая покажет более **90%** точности на test set.  \n",
        "Как водится, лучший результат в группе получит дополнительные баллы!"
      ]
    },
    {
      "cell_type": "code",
      "metadata": {
        "colab_type": "code",
        "id": "EIqM1kdeh-hd",
        "colab": {
          "base_uri": "https://localhost:8080/",
          "height": 34
        },
        "outputId": "e63b8092-2c3b-439f-f898-5ecc5ab84b1e"
      },
      "source": [
        "best_model = best_run.model\n",
        "\n",
        "final_test_accuracy = compute_accuracy(best_model, test_loader)\n",
        "print(\"Final test accuracy - \", final_test_accuracy)"
      ],
      "execution_count": 26,
      "outputs": [
        {
          "output_type": "stream",
          "text": [
            "Final test accuracy -  0.9217117393976644\n"
          ],
          "name": "stdout"
        }
      ]
    },
    {
      "cell_type": "code",
      "metadata": {
        "colab_type": "code",
        "id": "BfH6qip6kVX_",
        "colab": {}
      },
      "source": [
        ""
      ],
      "execution_count": 0,
      "outputs": []
    }
  ]
}